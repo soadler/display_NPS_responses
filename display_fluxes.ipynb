{
 "cells": [
  {
   "cell_type": "code",
   "execution_count": 1,
   "metadata": {},
   "outputs": [],
   "source": [
    "import ipywidgets as widgets\n",
    "from IPython.display import SVG, display, Image"
   ]
  },
  {
   "cell_type": "code",
   "execution_count": 2,
   "metadata": {},
   "outputs": [],
   "source": [
    "def show_svg(day, gt, percent, direction):\n",
    "    display(Image(filename=f'./flx_images/day {day}_{percent}_{gt}_{direction}.png', width=900))\n",
    "\n",
    "def show_rcf(day, dir):\n",
    "    display(Image(filename=f'./sens_ana_images/rcf_{dir}_day {day}.png', width=700))\n",
    "\n",
    "def show_rcm(day, dir):\n",
    "    display(Image(filename=f'./sens_ana_images/rcm_{dir}_day {day}.png', width=700))\n",
    "\n",
    "def show_scores_gt(day):\n",
    "    display(Image(filename=f'./sens_ana_images/scores_per_gt_day {day}.png', width=500))\n",
    "\n",
    "def show_scores_measure(day):\n",
    "    display(Image(filename=f'./sens_ana_images/scores_per_measure_day {day}.png', width=500))"
   ]
  },
  {
   "cell_type": "code",
   "execution_count": 3,
   "metadata": {},
   "outputs": [],
   "source": [
    "per_slider = widgets.IntSlider(\n",
    "    value=0,\n",
    "    min=0,\n",
    "    max=35,\n",
    "    step=5,\n",
    "    description='percent:',\n",
    "    disabled=False,\n",
    "    continuous_update=False,\n",
    "    orientation='horizontal',\n",
    "    readout=True,\n",
    "    readout_format='d',\n",
    "    layout=widgets.Layout(grid_area='1 / 3 / 2 / 4')\n",
    ")\n",
    "day_select = widgets.RadioButtons(\n",
    "    options=[0, 1, 3, 7, 14],\n",
    "    description='day:',\n",
    "    disabled=False,\n",
    "    layout=widgets.Layout(grid_area='1 / 2 / 2 / 3')\n",
    ")\n",
    "gt_select = widgets.RadioButtons(\n",
    "    options=['col', 'chs', 'f3h', 'bam', 'pgm'],\n",
    "    description='gt:',\n",
    "    disabled=False,\n",
    "    layout=widgets.Layout(grid_area='1 / 1 / 2 / 2')\n",
    ")\n",
    "dir_select = widgets.RadioButtons(\n",
    "    options=['up', 'down'],\n",
    "    description='dir:',\n",
    "    disabled=False,\n",
    "    layout=widgets.Layout(grid_area='1 / 4 / 2 / 5')\n",
    ")"
   ]
  },
  {
   "cell_type": "code",
   "execution_count": 4,
   "metadata": {},
   "outputs": [],
   "source": [
    "out_flxs = widgets.interactive_output(show_svg, {'day': day_select, 'gt': gt_select, 'percent': per_slider, 'direction': dir_select})\n",
    "out_rcf = widgets.interactive_output(show_rcf, {'day': day_select, 'dir': dir_select})\n",
    "out_rcm = widgets.interactive_output(show_rcm, {'day': day_select, 'dir': dir_select})\n",
    "out_scores_gt = widgets.interactive_output(show_scores_gt, {'day': day_select})\n",
    "out_scores_measure = widgets.interactive_output(show_scores_measure, {'day': day_select})\n",
    "\n",
    "out_box_flxs = widgets.Box([out_flxs], layout=widgets.Layout(grid_area='2 / 1 / 3 / 8'))\n",
    "out_box_rcf = widgets.Box([out_rcf], layout=widgets.Layout(grid_area='4 / 1 / 5 / 6'))\n",
    "out_box_rcm = widgets.Box([out_rcm], layout=widgets.Layout(grid_area='3 / 1 / 4 / 6'))\n",
    "out_box_scores_gt = widgets.Box([out_scores_gt], layout=widgets.Layout(grid_area='4 / 6 / 5 / 10'))\n",
    "out_box_scores_measure = widgets.Box([out_scores_measure], layout=widgets.Layout(grid_area='3 / 6 / 4 / 10'))"
   ]
  },
  {
   "cell_type": "code",
   "execution_count": 5,
   "metadata": {},
   "outputs": [
    {
     "data": {
      "application/vnd.jupyter.widget-view+json": {
       "model_id": "e976fb085e9741c9891d21143e587b97",
       "version_major": 2,
       "version_minor": 0
      },
      "text/plain": [
       "Box(children=(RadioButtons(description='gt:', layout=Layout(grid_area='1 / 1 / 2 / 2'), options=('col', 'chs',…"
      ]
     },
     "metadata": {},
     "output_type": "display_data"
    }
   ],
   "source": [
    "items = [gt_select, day_select, per_slider, dir_select, out_box_flxs, out_box_rcf, out_box_rcm, out_box_scores_gt, out_box_scores_measure]\n",
    "widgets.Box(items,\n",
    "            layout=widgets.Layout(display='grid',\n",
    "                                    width='1200px',\n",
    "                                    grid_template_columns= \"10% 10% 20% 10% 10% 10% 10% 10% 10%\",\n",
    "                                    grid_template_rows=\"auto auto auto auto\") )"
   ]
  },
  {
   "cell_type": "code",
   "execution_count": 6,
   "metadata": {},
   "outputs": [],
   "source": [
    "# starch mutants are so sensitive because their loss of uptake through nps is so strong over the days"
   ]
  }
 ],
 "metadata": {
  "kernelspec": {
   "display_name": "base",
   "language": "python",
   "name": "python3"
  },
  "language_info": {
   "codemirror_mode": {
    "name": "ipython",
    "version": 3
   },
   "file_extension": ".py",
   "mimetype": "text/x-python",
   "name": "python",
   "nbconvert_exporter": "python",
   "pygments_lexer": "ipython3",
   "version": "3.9.7"
  },
  "orig_nbformat": 4,
  "vscode": {
   "interpreter": {
    "hash": "f754645f7a77d07e3c73bc4cadda15ca091d02fabac50ec69c029376b1da131d"
   }
  }
 },
 "nbformat": 4,
 "nbformat_minor": 2
}
